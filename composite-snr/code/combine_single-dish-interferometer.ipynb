{
 "cells": [
  {
   "cell_type": "markdown",
   "metadata": {},
   "source": [
    "将单天线图像转换为visibilities: [tp2vis](https://github.com/tp2vis/distribute)\n",
    "\n",
    "Alec 写的一个脚本，可用于做CASA feather的补充 [FeatherPy](https://github.com/AlecThomson/FeatherPy)"
   ]
  },
  {
   "cell_type": "markdown",
   "metadata": {},
   "source": []
  },
  {
   "cell_type": "markdown",
   "metadata": {},
   "source": []
  }
 ],
 "metadata": {
  "language_info": {
   "name": "python"
  }
 },
 "nbformat": 4,
 "nbformat_minor": 2
}
